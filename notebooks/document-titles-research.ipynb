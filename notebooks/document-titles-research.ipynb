{
 "cells": [
  {
   "cell_type": "markdown",
   "id": "b1a072d0-7737-48c6-bfd9-3157d11855d4",
   "metadata": {},
   "source": [
    "# Классификация заголовков документов\n",
    "Есть файл с заголовками документов и классами этих документов.  \n",
    "Задача - построить алгоритм, который по этим данным мог бы по возможности однозначно классифицировать заголовки документов похожие на те, которые есть в имеющемся файле.  \n",
    "После предварительного просмотра заголовков есть предположение, что заголовки имеют примерно один вид и отличаются деталями формулировок и ключевыми словами. Однако в заголовках также есть \"мусор\", который будет мешать нормальной классификации.  \n",
    "В итоге надо создать алгоритм, который бы определял характерные для каждого класса ключевые слова, которые были бы реально значимыми.  "
   ]
  },
  {
   "cell_type": "code",
   "execution_count": 1,
   "id": "ed14dc02-53ed-4126-9e2d-b891f0c63999",
   "metadata": {},
   "outputs": [],
   "source": [
    "import pandas as pd\n",
    "import numpy as np\n",
    "import matplotlib.pyplot as plt\n",
    "import re\n",
    "from nltk.corpus import stopwords\n",
    "from pymystem3 import Mystem\n",
    "from sklearn.feature_extraction.text import TfidfVectorizer\n",
    "from sklearn.tree import DecisionTreeClassifier, plot_tree\n",
    "\n",
    "\n",
    "RANDOM_STATE = 423\n",
    "\n",
    "# Список стоп-слов\n",
    "russian_stopwords = stopwords.words(\"russian\")\n",
    "russian_stopwords.extend([' ', '\\n'])\n",
    "\n",
    "# Лемматизатор\n",
    "lemmatizer = Mystem()\n",
    "\n",
    "# Словарь опесаток и исправлений в пормате {\"опечатка\": \"корректное значение\"}\n",
    "typos = {}\n"
   ]
  },
  {
   "cell_type": "markdown",
   "id": "802bc20c-53e2-4230-90df-0cf5d53bfa92",
   "metadata": {},
   "source": [
    "## Предобработка данных"
   ]
  },
  {
   "cell_type": "markdown",
   "id": "a28d99d7-f452-4d3b-a097-4950cf06cbd9",
   "metadata": {},
   "source": [
    "### Загрузка тренировочных данных"
   ]
  },
  {
   "cell_type": "code",
   "execution_count": 2,
   "id": "5ca50bfd-523b-414b-8d3b-0f0bc609baca",
   "metadata": {},
   "outputs": [
    {
     "data": {
      "text/html": [
       "<div>\n",
       "<style scoped>\n",
       "    .dataframe tbody tr th:only-of-type {\n",
       "        vertical-align: middle;\n",
       "    }\n",
       "\n",
       "    .dataframe tbody tr th {\n",
       "        vertical-align: top;\n",
       "    }\n",
       "\n",
       "    .dataframe thead th {\n",
       "        text-align: right;\n",
       "    }\n",
       "</style>\n",
       "<table border=\"1\" class=\"dataframe\">\n",
       "  <thead>\n",
       "    <tr style=\"text-align: right;\">\n",
       "      <th></th>\n",
       "      <th>document_type_code</th>\n",
       "      <th>document_title</th>\n",
       "    </tr>\n",
       "  </thead>\n",
       "  <tbody>\n",
       "    <tr>\n",
       "      <th>0</th>\n",
       "      <td>bills</td>\n",
       "      <td>Список объектов, по которым решением общего со...</td>\n",
       "    </tr>\n",
       "    <tr>\n",
       "      <th>1</th>\n",
       "      <td>bills</td>\n",
       "      <td>Список объектов, по которым решением общего со...</td>\n",
       "    </tr>\n",
       "    <tr>\n",
       "      <th>2</th>\n",
       "      <td>bills</td>\n",
       "      <td>Список объектов, по которым решением общего со...</td>\n",
       "    </tr>\n",
       "    <tr>\n",
       "      <th>3</th>\n",
       "      <td>bills</td>\n",
       "      <td>Список объектов, по которым решением общего со...</td>\n",
       "    </tr>\n",
       "    <tr>\n",
       "      <th>4</th>\n",
       "      <td>bills</td>\n",
       "      <td>Список объектов, по которым решением общего со...</td>\n",
       "    </tr>\n",
       "  </tbody>\n",
       "</table>\n",
       "</div>"
      ],
      "text/plain": [
       "  document_type_code                                     document_title\n",
       "0              bills  Список объектов, по которым решением общего со...\n",
       "1              bills  Список объектов, по которым решением общего со...\n",
       "2              bills  Список объектов, по которым решением общего со...\n",
       "3              bills  Список объектов, по которым решением общего со...\n",
       "4              bills  Список объектов, по которым решением общего со..."
      ]
     },
     "execution_count": 2,
     "metadata": {},
     "output_type": "execute_result"
    }
   ],
   "source": [
    "df_titles_raw = pd.read_csv(\"../data/documents_titles.csv\", sep=\";\")\n",
    "df_titles = df_titles_raw.copy()\n",
    "df_titles.iloc[0,0] = df_titles.iloc[0,0].replace('\\ufeff', '')\n",
    "df_titles.head()"
   ]
  },
  {
   "cell_type": "markdown",
   "id": "bd9e053d-3659-4d6e-a82a-e31399093dd8",
   "metadata": {},
   "source": [
    "Все заголовки документов имеют примерно один вид, но отличаются деталями формулировки. Предполагаю, что для успешной классификации будет достаточно определить списки ключевых слов, характерных для конкретного типа документов. Тогда, прежде чем классифицировать документы, из их заголовков надо убрать знаки пунктуации, числовые значения (года, даты) и незначащие слова."
   ]
  },
  {
   "cell_type": "markdown",
   "id": "af7f38c3-dfeb-4cad-8ed8-8ef768e42d07",
   "metadata": {},
   "source": [
    "### Вызов пользовательского удаления данных\n",
    "Может возникнуть необходимость удаления из текста каких-то заранее известных фрагментов.  \n",
    "Для этого предусмотрен вызов функции удаления, который может быть определен пользователем.  \n",
    "В этом наборе данных это довольно простая замена текста на пустую строку, но могут быть и другие, более сложные алгоритмы.  "
   ]
  },
  {
   "cell_type": "code",
   "execution_count": 3,
   "id": "422adbbd-598e-4727-8746-e61a7dfe3134",
   "metadata": {},
   "outputs": [],
   "source": [
    "def castom_text_clear(input_text: str):\n",
    "    return re.sub(r'по\\s+адрес(у|ам)\\:\\s+АДРЕСА?\\s+СКРЫТЫ?', '', input_text)\n",
    "    "
   ]
  },
  {
   "cell_type": "markdown",
   "id": "cdff14e1-df4b-44a8-a070-34d3cd7ff214",
   "metadata": {},
   "source": [
    "### Предварительная чистка от пунктуации, цифр и т. д."
   ]
  },
  {
   "cell_type": "code",
   "execution_count": 4,
   "id": "d688aa06-ac7a-4ff3-ac34-43230797ab1e",
   "metadata": {},
   "outputs": [],
   "source": [
    "def remove_symbols_and_empty_words(input_text: str):\n",
    "    result = input_text.lower()\n",
    "    \n",
    "    # Удаление цифр и знаков препинания\n",
    "    result = re.sub(r'[^\\w\\s]|\\d', '', result)\n",
    "    \n",
    "    # удаление слов типа \"год\", \"месяц\" и т.п.\n",
    "    result = re.sub(r'\\bгод(а|ы|у|ом){0,1}\\b', '', result)\n",
    "    result = re.sub(r'\\bмесяц(а|ы|е){0,1}\\b', '', result)\n",
    "    \n",
    "    # удаление названий месяцев\n",
    "    month_template = (r'\\b(январ[ьяе])|(феврал[ьяе])|(март[ае]?)' \n",
    "                      + '|(апрел[ьяе])|(ма[йяе])|(июн[ьяе])|(июл[ьяе])' \n",
    "                      + '|(август[ае]?)|(сентябр[ьяе])|(октябр[ьяе])' \n",
    "                      + '|(ноябр[ьяе])|(декабр[ьяе])')\n",
    "    result = re.sub(month_template, '', result)\n",
    "\n",
    "    # Замена переноса строки и табуляции на пробелы\n",
    "    result = re.sub(r'\\n|\\t', ' ', result)\n",
    "    result = re.sub(r'\\s{2,}', ' ', result)\n",
    "\n",
    "    result = result.strip()\n",
    "    return result\n"
   ]
  },
  {
   "cell_type": "markdown",
   "id": "08363018-6151-4da3-8368-63065d76cf0c",
   "metadata": {},
   "source": [
    "### Проведение лемматизации и чистка от стоп-слов"
   ]
  },
  {
   "cell_type": "code",
   "execution_count": 5,
   "id": "54fe4b70-23ff-4e3f-9782-f8b671c009d2",
   "metadata": {},
   "outputs": [],
   "source": [
    "def title_lemmatize_and_clear(input_text: str, stop_words: list):\n",
    "    return ' '.join([w for w in lemmatizer.lemmatize(input_text) \n",
    "                     if w not in stop_words])\n"
   ]
  },
  {
   "cell_type": "markdown",
   "id": "ab8889f3-7baf-432c-8d5b-3ec5c572737a",
   "metadata": {},
   "source": [
    "### Вызов исправления ошибок и опечаток.\n",
    "Здесь пользователь может задать словарь заранее известных опечаток и ошибок в словах с корректными значениями для их замены.  "
   ]
  },
  {
   "cell_type": "code",
   "execution_count": 6,
   "id": "9b325d72-3c01-4cb8-81d0-52c882ce1447",
   "metadata": {},
   "outputs": [],
   "source": [
    "def correct_typos(input_text: str, typos_dict: dict):\n",
    "    result = input_text\n",
    "    for typo in typos_dict.keys():\n",
    "        result = result.replace(typo, typos_dict[typo])\n",
    "    return result"
   ]
  },
  {
   "cell_type": "markdown",
   "id": "cd12f0e2-99bc-4d9d-8501-da537200870a",
   "metadata": {},
   "source": [
    "### Весь цикл предобработки"
   ]
  },
  {
   "cell_type": "code",
   "execution_count": 7,
   "id": "ec49c7ce-809f-468f-8a86-f099db6ad5d3",
   "metadata": {},
   "outputs": [],
   "source": [
    "def title_preprocessing(input_text: str):\n",
    "    \"\"\"\n",
    "    Полный цикл предобработки текста заголовка документа\n",
    "    \"\"\"\n",
    "    result = input_text\n",
    "    # 2. Вызов пользовательского удаления данных\n",
    "    result = castom_text_clear(result)\n",
    "    # 3. Предварительная чистка от пунктуации, цифр и т.д.\n",
    "    result = remove_symbols_and_empty_words(result)\n",
    "    # 4. Проведение лемматизации и чистка от стоп-слов\n",
    "    result = title_lemmatize_and_clear(result, russian_stopwords)\n",
    "    # 5. Вызов исправления ошибок и опечаток\n",
    "    result = correct_typos(result, typos)\n",
    "    \n",
    "    return result"
   ]
  },
  {
   "cell_type": "markdown",
   "id": "c314584b-291e-4013-824c-6cd6346add16",
   "metadata": {},
   "source": [
    "### Обработка заголовков"
   ]
  },
  {
   "cell_type": "code",
   "execution_count": 8,
   "id": "35f68cb7-eb0d-4418-9bf5-9bfe3e0267cf",
   "metadata": {},
   "outputs": [
    {
     "name": "stdout",
     "output_type": "stream",
     "text": [
      "CPU times: user 741 ms, sys: 45.3 ms, total: 786 ms\n",
      "Wall time: 2.77 s\n"
     ]
    }
   ],
   "source": [
    "%%time\n",
    "df_titles.document_title = df_titles_raw.document_title.apply(title_preprocessing)"
   ]
  },
  {
   "cell_type": "code",
   "execution_count": null,
   "id": "fbc4b206-18a9-4ab0-bb96-ccf044a64f73",
   "metadata": {},
   "outputs": [],
   "source": []
  },
  {
   "cell_type": "markdown",
   "id": "70096db2-6d76-4ac6-9c7d-4200306813f9",
   "metadata": {},
   "source": [
    "## Получение признаков из заголовков документов"
   ]
  },
  {
   "cell_type": "markdown",
   "id": "4840c03d-f7a5-4eef-87e8-09870f7be924",
   "metadata": {},
   "source": [
    "### Формирование матрицы слов"
   ]
  },
  {
   "cell_type": "code",
   "execution_count": 9,
   "id": "b8b25e77-2713-435f-893a-d992323a42c2",
   "metadata": {},
   "outputs": [
    {
     "data": {
      "text/html": [
       "<div>\n",
       "<style scoped>\n",
       "    .dataframe tbody tr th:only-of-type {\n",
       "        vertical-align: middle;\n",
       "    }\n",
       "\n",
       "    .dataframe tbody tr th {\n",
       "        vertical-align: top;\n",
       "    }\n",
       "\n",
       "    .dataframe thead th {\n",
       "        text-align: right;\n",
       "    }\n",
       "</style>\n",
       "<table border=\"1\" class=\"dataframe\">\n",
       "  <thead>\n",
       "    <tr style=\"text-align: right;\">\n",
       "      <th></th>\n",
       "      <th>xlsx</th>\n",
       "      <th>ведение</th>\n",
       "      <th>взнос</th>\n",
       "      <th>владелец</th>\n",
       "      <th>владение</th>\n",
       "      <th>влфделец</th>\n",
       "      <th>выявлять</th>\n",
       "      <th>гоплюс</th>\n",
       "      <th>дважды</th>\n",
       "      <th>день</th>\n",
       "      <th>...</th>\n",
       "      <th>учитывать</th>\n",
       "      <th>фактический</th>\n",
       "      <th>формировать</th>\n",
       "      <th>формироваться</th>\n",
       "      <th>хозяйственный</th>\n",
       "      <th>хотя</th>\n",
       "      <th>частично</th>\n",
       "      <th>часть</th>\n",
       "      <th>экз</th>\n",
       "      <th>являться</th>\n",
       "    </tr>\n",
       "  </thead>\n",
       "  <tbody>\n",
       "    <tr>\n",
       "      <th>0</th>\n",
       "      <td>0.0</td>\n",
       "      <td>0.0</td>\n",
       "      <td>0.0</td>\n",
       "      <td>0.0</td>\n",
       "      <td>0.0</td>\n",
       "      <td>0.0</td>\n",
       "      <td>0.0</td>\n",
       "      <td>0.0</td>\n",
       "      <td>0.0</td>\n",
       "      <td>0.0</td>\n",
       "      <td>...</td>\n",
       "      <td>0.0</td>\n",
       "      <td>0.0</td>\n",
       "      <td>0.0</td>\n",
       "      <td>0.294927</td>\n",
       "      <td>0.0</td>\n",
       "      <td>0.0</td>\n",
       "      <td>0.0</td>\n",
       "      <td>0.0</td>\n",
       "      <td>0.0</td>\n",
       "      <td>0.0</td>\n",
       "    </tr>\n",
       "    <tr>\n",
       "      <th>1</th>\n",
       "      <td>0.0</td>\n",
       "      <td>0.0</td>\n",
       "      <td>0.0</td>\n",
       "      <td>0.0</td>\n",
       "      <td>0.0</td>\n",
       "      <td>0.0</td>\n",
       "      <td>0.0</td>\n",
       "      <td>0.0</td>\n",
       "      <td>0.0</td>\n",
       "      <td>0.0</td>\n",
       "      <td>...</td>\n",
       "      <td>0.0</td>\n",
       "      <td>0.0</td>\n",
       "      <td>0.0</td>\n",
       "      <td>0.294927</td>\n",
       "      <td>0.0</td>\n",
       "      <td>0.0</td>\n",
       "      <td>0.0</td>\n",
       "      <td>0.0</td>\n",
       "      <td>0.0</td>\n",
       "      <td>0.0</td>\n",
       "    </tr>\n",
       "    <tr>\n",
       "      <th>2</th>\n",
       "      <td>0.0</td>\n",
       "      <td>0.0</td>\n",
       "      <td>0.0</td>\n",
       "      <td>0.0</td>\n",
       "      <td>0.0</td>\n",
       "      <td>0.0</td>\n",
       "      <td>0.0</td>\n",
       "      <td>0.0</td>\n",
       "      <td>0.0</td>\n",
       "      <td>0.0</td>\n",
       "      <td>...</td>\n",
       "      <td>0.0</td>\n",
       "      <td>0.0</td>\n",
       "      <td>0.0</td>\n",
       "      <td>0.294927</td>\n",
       "      <td>0.0</td>\n",
       "      <td>0.0</td>\n",
       "      <td>0.0</td>\n",
       "      <td>0.0</td>\n",
       "      <td>0.0</td>\n",
       "      <td>0.0</td>\n",
       "    </tr>\n",
       "    <tr>\n",
       "      <th>3</th>\n",
       "      <td>0.0</td>\n",
       "      <td>0.0</td>\n",
       "      <td>0.0</td>\n",
       "      <td>0.0</td>\n",
       "      <td>0.0</td>\n",
       "      <td>0.0</td>\n",
       "      <td>0.0</td>\n",
       "      <td>0.0</td>\n",
       "      <td>0.0</td>\n",
       "      <td>0.0</td>\n",
       "      <td>...</td>\n",
       "      <td>0.0</td>\n",
       "      <td>0.0</td>\n",
       "      <td>0.0</td>\n",
       "      <td>0.294927</td>\n",
       "      <td>0.0</td>\n",
       "      <td>0.0</td>\n",
       "      <td>0.0</td>\n",
       "      <td>0.0</td>\n",
       "      <td>0.0</td>\n",
       "      <td>0.0</td>\n",
       "    </tr>\n",
       "    <tr>\n",
       "      <th>4</th>\n",
       "      <td>0.0</td>\n",
       "      <td>0.0</td>\n",
       "      <td>0.0</td>\n",
       "      <td>0.0</td>\n",
       "      <td>0.0</td>\n",
       "      <td>0.0</td>\n",
       "      <td>0.0</td>\n",
       "      <td>0.0</td>\n",
       "      <td>0.0</td>\n",
       "      <td>0.0</td>\n",
       "      <td>...</td>\n",
       "      <td>0.0</td>\n",
       "      <td>0.0</td>\n",
       "      <td>0.0</td>\n",
       "      <td>0.294927</td>\n",
       "      <td>0.0</td>\n",
       "      <td>0.0</td>\n",
       "      <td>0.0</td>\n",
       "      <td>0.0</td>\n",
       "      <td>0.0</td>\n",
       "      <td>0.0</td>\n",
       "    </tr>\n",
       "  </tbody>\n",
       "</table>\n",
       "<p>5 rows × 105 columns</p>\n",
       "</div>"
      ],
      "text/plain": [
       "   xlsx  ведение  взнос  владелец  владение  влфделец  выявлять  гоплюс  \\\n",
       "0   0.0      0.0    0.0       0.0       0.0       0.0       0.0     0.0   \n",
       "1   0.0      0.0    0.0       0.0       0.0       0.0       0.0     0.0   \n",
       "2   0.0      0.0    0.0       0.0       0.0       0.0       0.0     0.0   \n",
       "3   0.0      0.0    0.0       0.0       0.0       0.0       0.0     0.0   \n",
       "4   0.0      0.0    0.0       0.0       0.0       0.0       0.0     0.0   \n",
       "\n",
       "   дважды  день  ...  учитывать  фактический  формировать  формироваться  \\\n",
       "0     0.0   0.0  ...        0.0          0.0          0.0       0.294927   \n",
       "1     0.0   0.0  ...        0.0          0.0          0.0       0.294927   \n",
       "2     0.0   0.0  ...        0.0          0.0          0.0       0.294927   \n",
       "3     0.0   0.0  ...        0.0          0.0          0.0       0.294927   \n",
       "4     0.0   0.0  ...        0.0          0.0          0.0       0.294927   \n",
       "\n",
       "   хозяйственный  хотя  частично  часть  экз  являться  \n",
       "0            0.0   0.0       0.0    0.0  0.0       0.0  \n",
       "1            0.0   0.0       0.0    0.0  0.0       0.0  \n",
       "2            0.0   0.0       0.0    0.0  0.0       0.0  \n",
       "3            0.0   0.0       0.0    0.0  0.0       0.0  \n",
       "4            0.0   0.0       0.0    0.0  0.0       0.0  \n",
       "\n",
       "[5 rows x 105 columns]"
      ]
     },
     "execution_count": 9,
     "metadata": {},
     "output_type": "execute_result"
    }
   ],
   "source": [
    "def get_words_tfidf():\n",
    "    '''\n",
    "    Получение матрицы значений TF-IDF по словам их заголовков документов в виде DataFrame\n",
    "    '''\n",
    "    tfidf = TfidfVectorizer()\n",
    "    tfidf_matrix = tfidf.fit_transform(df_titles[\"document_title\"])\n",
    "    return pd.DataFrame(tfidf_matrix.toarray(), index=df_titles.index, columns=tfidf.get_feature_names_out())\n",
    "\n",
    "\n",
    "df_words = get_words_tfidf()\n",
    "df_words.head()"
   ]
  },
  {
   "cell_type": "code",
   "execution_count": 10,
   "id": "de914db7-49fe-4b29-8a8d-6d5efb142fb1",
   "metadata": {},
   "outputs": [
    {
     "name": "stdout",
     "output_type": "stream",
     "text": [
      "['xlsx', 'ведение', 'взнос', 'владелец', 'владение', 'влфделец', 'выявлять', 'гоплюс', 'дважды', 'день', 'должный', 'дооплата', 'доплата', 'допускать', 'задолженность', 'идентификатор', 'итоговый', 'количество', 'корректировка', 'корректность', 'который', 'кроме', 'находиться', 'начисление', 'неккоректно', 'неккоректный', 'некорректный', 'некорретной', 'необходимо', 'необходимость', 'неотозванный', 'непривязанный', 'образовываться', 'общий', 'объект', 'объем', 'оплата', 'оплачивать', 'оплюсганизация', 'определять', 'организаци', 'организация', 'осуществленоосуществлять', 'осуществлять', 'отмена', 'отменять', 'отношение', 'отражение', 'ошибочно', 'пеплюседача', 'передача', 'переиод', 'переплата', 'перераспределение', 'перерплата', 'перечень', 'период', 'письмо', 'плательщик', 'погашение', 'поле', 'превышение', 'предыдущий', 'признание', 'признанный', 'приложение', 'принадлежать', 'причина', 'производить', 'ранее', 'располагать', 'расположенный', 'рассмотрение', 'резерв', 'решение', 'связь', 'скрывать', 'собрание', 'состояние', 'специализированный', 'специальный', 'список', 'стоплюсонный', 'сторона', 'сторонний', 'сумма', 'сформировываться', 'счет', 'также', 'тк', 'увеличение', 'указывать', 'уменьшение', 'устранение', 'учет', 'учитывать', 'фактический', 'формировать', 'формироваться', 'хозяйственный', 'хотя', 'частично', 'часть', 'экз', 'являться']\n"
     ]
    }
   ],
   "source": [
    "print(list(df_words.columns[df_words.sum()>0]))"
   ]
  },
  {
   "cell_type": "markdown",
   "id": "c5a6da6e-398b-4289-9308-de7253f33c21",
   "metadata": {},
   "source": [
    "### Обнаруженные ошибки и опечатки"
   ]
  },
  {
   "cell_type": "markdown",
   "id": "5716cb56-8ef4-41f3-ab47-189ab151e61d",
   "metadata": {},
   "source": [
    "'влфделец' -> 'владелец'  \n",
    "'гоплюс' -> 'год'  \n",
    "'оплюсганизация' ->   \n",
    "'пеплюседача' -> 'передача'  \n",
    "'стоплюсонный' -> 'сторонний'  \n",
    "'организаци' ->   \n",
    "'осуществленоосуществлять' ->   \n",
    "'переиод' -> 'период'  \n",
    "'перерплата' -> 'переплата'  \n",
    "'неккоректно' -> 'некорретной'  \n",
    "'неккоректный' -> 'некорректный'  \n",
    "  \n",
    "'декабрь' - почему-то не удалился  \n",
    "'подекабрь' -> 'по декабрь' -> удалить  \n",
    " \n",
    "'экз' - какой-то мусор  -> удалить  "
   ]
  },
  {
   "cell_type": "markdown",
   "id": "7011d2d0-90a4-41ea-9e3d-0799cd2eb9e7",
   "metadata": {},
   "source": [
    "### Заполнение словаря ошибок и повторная обработка\n",
    "Здесь заполняется словарь опечаток `typos`, который используется в функции предобработки данных `title_preprocessing()`."
   ]
  },
  {
   "cell_type": "code",
   "execution_count": 11,
   "id": "ae429c10-1a1d-48cd-a8e6-65bba44a9df0",
   "metadata": {},
   "outputs": [],
   "source": [
    "typos.update({'влфделец': 'владелец',\n",
    "              'гоплюс': '',\n",
    "              'гоплюсе': '', \n",
    "              'оплюсганизация': 'организация',\n",
    "              'пеплюседача': 'передача',\n",
    "              'стоплюсонный': 'сторонний',\n",
    "              'организаци': 'организация',\n",
    "              'осуществленоосуществлять': 'осуществлять',\n",
    "              'переиод': 'период',\n",
    "              'перерплата': 'переплата',\n",
    "              'неккоректно': 'некорретной',\n",
    "              'неккоректный': 'некорректный',\n",
    "              'подекабрь': '',\n",
    "              'экз': '',})"
   ]
  },
  {
   "cell_type": "markdown",
   "id": "a8ff3f2d-eead-472d-8ad1-563375ecb1e9",
   "metadata": {},
   "source": [
    "### Повторная предобработка данных с учетом опечаток"
   ]
  },
  {
   "cell_type": "code",
   "execution_count": 12,
   "id": "9640367d-863c-47ae-ac9a-761ba198ba20",
   "metadata": {},
   "outputs": [
    {
     "name": "stdout",
     "output_type": "stream",
     "text": [
      "CPU times: user 751 ms, sys: 58.7 ms, total: 809 ms\n",
      "Wall time: 2.2 s\n"
     ]
    }
   ],
   "source": [
    "%%time\n",
    "df_titles.document_title = df_titles_raw.document_title.apply(title_preprocessing)"
   ]
  },
  {
   "cell_type": "code",
   "execution_count": 13,
   "id": "5894ed35-f6f4-40c1-bf4f-7662f5a48e40",
   "metadata": {},
   "outputs": [
    {
     "data": {
      "text/html": [
       "<div>\n",
       "<style scoped>\n",
       "    .dataframe tbody tr th:only-of-type {\n",
       "        vertical-align: middle;\n",
       "    }\n",
       "\n",
       "    .dataframe tbody tr th {\n",
       "        vertical-align: top;\n",
       "    }\n",
       "\n",
       "    .dataframe thead th {\n",
       "        text-align: right;\n",
       "    }\n",
       "</style>\n",
       "<table border=\"1\" class=\"dataframe\">\n",
       "  <thead>\n",
       "    <tr style=\"text-align: right;\">\n",
       "      <th></th>\n",
       "      <th>xlsx</th>\n",
       "      <th>ведение</th>\n",
       "      <th>взнос</th>\n",
       "      <th>владелец</th>\n",
       "      <th>владение</th>\n",
       "      <th>выявлять</th>\n",
       "      <th>дважды</th>\n",
       "      <th>день</th>\n",
       "      <th>должный</th>\n",
       "      <th>дооплата</th>\n",
       "      <th>...</th>\n",
       "      <th>учет</th>\n",
       "      <th>учитывать</th>\n",
       "      <th>фактический</th>\n",
       "      <th>формировать</th>\n",
       "      <th>формироваться</th>\n",
       "      <th>хозяйственный</th>\n",
       "      <th>хотя</th>\n",
       "      <th>частично</th>\n",
       "      <th>часть</th>\n",
       "      <th>являться</th>\n",
       "    </tr>\n",
       "  </thead>\n",
       "  <tbody>\n",
       "    <tr>\n",
       "      <th>0</th>\n",
       "      <td>0.0</td>\n",
       "      <td>0.0</td>\n",
       "      <td>0.0</td>\n",
       "      <td>0.0</td>\n",
       "      <td>0.0</td>\n",
       "      <td>0.0</td>\n",
       "      <td>0.0</td>\n",
       "      <td>0.0</td>\n",
       "      <td>0.0</td>\n",
       "      <td>0.0</td>\n",
       "      <td>...</td>\n",
       "      <td>0.0</td>\n",
       "      <td>0.0</td>\n",
       "      <td>0.0</td>\n",
       "      <td>0.0</td>\n",
       "      <td>0.294942</td>\n",
       "      <td>0.0</td>\n",
       "      <td>0.0</td>\n",
       "      <td>0.0</td>\n",
       "      <td>0.0</td>\n",
       "      <td>0.0</td>\n",
       "    </tr>\n",
       "    <tr>\n",
       "      <th>1</th>\n",
       "      <td>0.0</td>\n",
       "      <td>0.0</td>\n",
       "      <td>0.0</td>\n",
       "      <td>0.0</td>\n",
       "      <td>0.0</td>\n",
       "      <td>0.0</td>\n",
       "      <td>0.0</td>\n",
       "      <td>0.0</td>\n",
       "      <td>0.0</td>\n",
       "      <td>0.0</td>\n",
       "      <td>...</td>\n",
       "      <td>0.0</td>\n",
       "      <td>0.0</td>\n",
       "      <td>0.0</td>\n",
       "      <td>0.0</td>\n",
       "      <td>0.294942</td>\n",
       "      <td>0.0</td>\n",
       "      <td>0.0</td>\n",
       "      <td>0.0</td>\n",
       "      <td>0.0</td>\n",
       "      <td>0.0</td>\n",
       "    </tr>\n",
       "    <tr>\n",
       "      <th>2</th>\n",
       "      <td>0.0</td>\n",
       "      <td>0.0</td>\n",
       "      <td>0.0</td>\n",
       "      <td>0.0</td>\n",
       "      <td>0.0</td>\n",
       "      <td>0.0</td>\n",
       "      <td>0.0</td>\n",
       "      <td>0.0</td>\n",
       "      <td>0.0</td>\n",
       "      <td>0.0</td>\n",
       "      <td>...</td>\n",
       "      <td>0.0</td>\n",
       "      <td>0.0</td>\n",
       "      <td>0.0</td>\n",
       "      <td>0.0</td>\n",
       "      <td>0.294942</td>\n",
       "      <td>0.0</td>\n",
       "      <td>0.0</td>\n",
       "      <td>0.0</td>\n",
       "      <td>0.0</td>\n",
       "      <td>0.0</td>\n",
       "    </tr>\n",
       "    <tr>\n",
       "      <th>3</th>\n",
       "      <td>0.0</td>\n",
       "      <td>0.0</td>\n",
       "      <td>0.0</td>\n",
       "      <td>0.0</td>\n",
       "      <td>0.0</td>\n",
       "      <td>0.0</td>\n",
       "      <td>0.0</td>\n",
       "      <td>0.0</td>\n",
       "      <td>0.0</td>\n",
       "      <td>0.0</td>\n",
       "      <td>...</td>\n",
       "      <td>0.0</td>\n",
       "      <td>0.0</td>\n",
       "      <td>0.0</td>\n",
       "      <td>0.0</td>\n",
       "      <td>0.294942</td>\n",
       "      <td>0.0</td>\n",
       "      <td>0.0</td>\n",
       "      <td>0.0</td>\n",
       "      <td>0.0</td>\n",
       "      <td>0.0</td>\n",
       "    </tr>\n",
       "    <tr>\n",
       "      <th>4</th>\n",
       "      <td>0.0</td>\n",
       "      <td>0.0</td>\n",
       "      <td>0.0</td>\n",
       "      <td>0.0</td>\n",
       "      <td>0.0</td>\n",
       "      <td>0.0</td>\n",
       "      <td>0.0</td>\n",
       "      <td>0.0</td>\n",
       "      <td>0.0</td>\n",
       "      <td>0.0</td>\n",
       "      <td>...</td>\n",
       "      <td>0.0</td>\n",
       "      <td>0.0</td>\n",
       "      <td>0.0</td>\n",
       "      <td>0.0</td>\n",
       "      <td>0.294942</td>\n",
       "      <td>0.0</td>\n",
       "      <td>0.0</td>\n",
       "      <td>0.0</td>\n",
       "      <td>0.0</td>\n",
       "      <td>0.0</td>\n",
       "    </tr>\n",
       "  </tbody>\n",
       "</table>\n",
       "<p>5 rows × 94 columns</p>\n",
       "</div>"
      ],
      "text/plain": [
       "   xlsx  ведение  взнос  владелец  владение  выявлять  дважды  день  должный  \\\n",
       "0   0.0      0.0    0.0       0.0       0.0       0.0     0.0   0.0      0.0   \n",
       "1   0.0      0.0    0.0       0.0       0.0       0.0     0.0   0.0      0.0   \n",
       "2   0.0      0.0    0.0       0.0       0.0       0.0     0.0   0.0      0.0   \n",
       "3   0.0      0.0    0.0       0.0       0.0       0.0     0.0   0.0      0.0   \n",
       "4   0.0      0.0    0.0       0.0       0.0       0.0     0.0   0.0      0.0   \n",
       "\n",
       "   дооплата  ...  учет  учитывать  фактический  формировать  формироваться  \\\n",
       "0       0.0  ...   0.0        0.0          0.0          0.0       0.294942   \n",
       "1       0.0  ...   0.0        0.0          0.0          0.0       0.294942   \n",
       "2       0.0  ...   0.0        0.0          0.0          0.0       0.294942   \n",
       "3       0.0  ...   0.0        0.0          0.0          0.0       0.294942   \n",
       "4       0.0  ...   0.0        0.0          0.0          0.0       0.294942   \n",
       "\n",
       "   хозяйственный  хотя  частично  часть  являться  \n",
       "0            0.0   0.0       0.0    0.0       0.0  \n",
       "1            0.0   0.0       0.0    0.0       0.0  \n",
       "2            0.0   0.0       0.0    0.0       0.0  \n",
       "3            0.0   0.0       0.0    0.0       0.0  \n",
       "4            0.0   0.0       0.0    0.0       0.0  \n",
       "\n",
       "[5 rows x 94 columns]"
      ]
     },
     "execution_count": 13,
     "metadata": {},
     "output_type": "execute_result"
    }
   ],
   "source": [
    "df_words = get_words_tfidf()\n",
    "df_words.head()"
   ]
  },
  {
   "cell_type": "code",
   "execution_count": 14,
   "id": "975f5dda-b5d6-41bb-a41f-48b788e91b46",
   "metadata": {},
   "outputs": [
    {
     "name": "stdout",
     "output_type": "stream",
     "text": [
      "['xlsx', 'ведение', 'взнос', 'владелец', 'владение', 'выявлять', 'дважды', 'день', 'должный', 'дооплата', 'доплата', 'допускать', 'задолженность', 'идентификатор', 'итоговый', 'количество', 'корректировка', 'корректность', 'который', 'кроме', 'находиться', 'начисление', 'некорректный', 'некорретной', 'необходимо', 'необходимость', 'неотозванный', 'непривязанный', 'образовываться', 'общий', 'объект', 'объем', 'оплата', 'оплачивать', 'определять', 'организация', 'организацияя', 'осуществлять', 'отмена', 'отменять', 'отношение', 'отражение', 'ошибочно', 'передача', 'переплата', 'перераспределение', 'перечень', 'период', 'письмо', 'плательщик', 'погашение', 'поле', 'превышение', 'предыдущий', 'признание', 'признанный', 'приложение', 'принадлежать', 'причина', 'производить', 'ранее', 'располагать', 'расположенный', 'рассмотрение', 'резерв', 'решение', 'связь', 'скрывать', 'собрание', 'состояние', 'специализированный', 'специальный', 'список', 'сторона', 'сторонний', 'сумма', 'сформировываться', 'счет', 'также', 'тк', 'увеличение', 'указывать', 'уменьшение', 'устранение', 'учет', 'учитывать', 'фактический', 'формировать', 'формироваться', 'хозяйственный', 'хотя', 'частично', 'часть', 'являться']\n"
     ]
    }
   ],
   "source": [
    "print(list(df_words.columns))"
   ]
  },
  {
   "cell_type": "markdown",
   "id": "5fa12a63-49de-445f-8beb-3fd26a7976b8",
   "metadata": {},
   "source": [
    "### Формирование списка значащих слов"
   ]
  },
  {
   "cell_type": "code",
   "execution_count": 15,
   "id": "84457b28-882d-458a-b346-a953309e016d",
   "metadata": {},
   "outputs": [],
   "source": [
    "feature_columns_names = list(df_words.columns[df_words.sum() > 0])"
   ]
  },
  {
   "cell_type": "code",
   "execution_count": null,
   "id": "92fc4682-38d4-4dac-a298-78616422b56c",
   "metadata": {},
   "outputs": [],
   "source": []
  },
  {
   "cell_type": "code",
   "execution_count": null,
   "id": "db80d293-ea12-486e-94b7-e4439883edd3",
   "metadata": {},
   "outputs": [],
   "source": []
  },
  {
   "cell_type": "markdown",
   "id": "560af4b7-d0fa-412b-b099-84f95f4eb89b",
   "metadata": {},
   "source": [
    "## Обучение модели\n",
    "Для классификации я решил использовать семейство бинарных классификаторов на решающих деревьях, для каждого класса своё дерево.\n",
    "Общий результат классификации будет определяться так:\n",
    "- Если заголовок был классифицирован как положительный класс только одним из решающих деревьев, то считается, что классификация прошла успешно и рассматриваемый заголовок относится к этому классу.\n",
    "- Если ни одно решающее дерево не классифицировало заголовок как относящийся к положительному классу, то считается, что данный заголовок не знаком модели, и возвращается пустое значение класса.\n",
    "- Если несколько решающих деревьев определили заголовок как относящийся к положительному классу, то формируется и возвращается список этих классов, классификация считается неуспешной.\n",
    "\n",
    "Во всех случаях, когда классификация была неуспешной, нужно сообщить пользователю об этом для дальнейшего изучения причин возникновения такой ситуации. "
   ]
  },
  {
   "cell_type": "markdown",
   "id": "64075a81-fc4f-4fcc-af7a-679578049464",
   "metadata": {},
   "source": [
    "### Формирование списка типов документов"
   ]
  },
  {
   "cell_type": "code",
   "execution_count": 16,
   "id": "44b7d147-d99c-4da2-bbc6-47e38c2fd7ab",
   "metadata": {},
   "outputs": [],
   "source": [
    "document_types = df_titles.document_type_code.str.strip().unique()"
   ]
  },
  {
   "cell_type": "markdown",
   "id": "38f05849-5384-4d2e-acf9-abe2b6b79f11",
   "metadata": {},
   "source": [
    "### Формирование признаков"
   ]
  },
  {
   "cell_type": "code",
   "execution_count": 17,
   "id": "07a96555-3a66-4ca5-afff-d2a54ca38543",
   "metadata": {},
   "outputs": [
    {
     "data": {
      "text/html": [
       "<div>\n",
       "<style scoped>\n",
       "    .dataframe tbody tr th:only-of-type {\n",
       "        vertical-align: middle;\n",
       "    }\n",
       "\n",
       "    .dataframe tbody tr th {\n",
       "        vertical-align: top;\n",
       "    }\n",
       "\n",
       "    .dataframe thead th {\n",
       "        text-align: right;\n",
       "    }\n",
       "</style>\n",
       "<table border=\"1\" class=\"dataframe\">\n",
       "  <thead>\n",
       "    <tr style=\"text-align: right;\">\n",
       "      <th></th>\n",
       "      <th>document_type_code</th>\n",
       "      <th>xlsx</th>\n",
       "      <th>ведение</th>\n",
       "      <th>взнос</th>\n",
       "      <th>владелец</th>\n",
       "      <th>владение</th>\n",
       "      <th>выявлять</th>\n",
       "      <th>дважды</th>\n",
       "      <th>день</th>\n",
       "      <th>должный</th>\n",
       "      <th>...</th>\n",
       "      <th>учет</th>\n",
       "      <th>учитывать</th>\n",
       "      <th>фактический</th>\n",
       "      <th>формировать</th>\n",
       "      <th>формироваться</th>\n",
       "      <th>хозяйственный</th>\n",
       "      <th>хотя</th>\n",
       "      <th>частично</th>\n",
       "      <th>часть</th>\n",
       "      <th>являться</th>\n",
       "    </tr>\n",
       "  </thead>\n",
       "  <tbody>\n",
       "    <tr>\n",
       "      <th>0</th>\n",
       "      <td>bills</td>\n",
       "      <td>0.0</td>\n",
       "      <td>0.0</td>\n",
       "      <td>0.0</td>\n",
       "      <td>0.0</td>\n",
       "      <td>0.0</td>\n",
       "      <td>0.0</td>\n",
       "      <td>0.0</td>\n",
       "      <td>0.0</td>\n",
       "      <td>0.0</td>\n",
       "      <td>...</td>\n",
       "      <td>0.0</td>\n",
       "      <td>0.0</td>\n",
       "      <td>0.0</td>\n",
       "      <td>0.0</td>\n",
       "      <td>0.294942</td>\n",
       "      <td>0.0</td>\n",
       "      <td>0.0</td>\n",
       "      <td>0.0</td>\n",
       "      <td>0.0</td>\n",
       "      <td>0.0</td>\n",
       "    </tr>\n",
       "    <tr>\n",
       "      <th>1</th>\n",
       "      <td>bills</td>\n",
       "      <td>0.0</td>\n",
       "      <td>0.0</td>\n",
       "      <td>0.0</td>\n",
       "      <td>0.0</td>\n",
       "      <td>0.0</td>\n",
       "      <td>0.0</td>\n",
       "      <td>0.0</td>\n",
       "      <td>0.0</td>\n",
       "      <td>0.0</td>\n",
       "      <td>...</td>\n",
       "      <td>0.0</td>\n",
       "      <td>0.0</td>\n",
       "      <td>0.0</td>\n",
       "      <td>0.0</td>\n",
       "      <td>0.294942</td>\n",
       "      <td>0.0</td>\n",
       "      <td>0.0</td>\n",
       "      <td>0.0</td>\n",
       "      <td>0.0</td>\n",
       "      <td>0.0</td>\n",
       "    </tr>\n",
       "    <tr>\n",
       "      <th>2</th>\n",
       "      <td>bills</td>\n",
       "      <td>0.0</td>\n",
       "      <td>0.0</td>\n",
       "      <td>0.0</td>\n",
       "      <td>0.0</td>\n",
       "      <td>0.0</td>\n",
       "      <td>0.0</td>\n",
       "      <td>0.0</td>\n",
       "      <td>0.0</td>\n",
       "      <td>0.0</td>\n",
       "      <td>...</td>\n",
       "      <td>0.0</td>\n",
       "      <td>0.0</td>\n",
       "      <td>0.0</td>\n",
       "      <td>0.0</td>\n",
       "      <td>0.294942</td>\n",
       "      <td>0.0</td>\n",
       "      <td>0.0</td>\n",
       "      <td>0.0</td>\n",
       "      <td>0.0</td>\n",
       "      <td>0.0</td>\n",
       "    </tr>\n",
       "    <tr>\n",
       "      <th>3</th>\n",
       "      <td>bills</td>\n",
       "      <td>0.0</td>\n",
       "      <td>0.0</td>\n",
       "      <td>0.0</td>\n",
       "      <td>0.0</td>\n",
       "      <td>0.0</td>\n",
       "      <td>0.0</td>\n",
       "      <td>0.0</td>\n",
       "      <td>0.0</td>\n",
       "      <td>0.0</td>\n",
       "      <td>...</td>\n",
       "      <td>0.0</td>\n",
       "      <td>0.0</td>\n",
       "      <td>0.0</td>\n",
       "      <td>0.0</td>\n",
       "      <td>0.294942</td>\n",
       "      <td>0.0</td>\n",
       "      <td>0.0</td>\n",
       "      <td>0.0</td>\n",
       "      <td>0.0</td>\n",
       "      <td>0.0</td>\n",
       "    </tr>\n",
       "    <tr>\n",
       "      <th>4</th>\n",
       "      <td>bills</td>\n",
       "      <td>0.0</td>\n",
       "      <td>0.0</td>\n",
       "      <td>0.0</td>\n",
       "      <td>0.0</td>\n",
       "      <td>0.0</td>\n",
       "      <td>0.0</td>\n",
       "      <td>0.0</td>\n",
       "      <td>0.0</td>\n",
       "      <td>0.0</td>\n",
       "      <td>...</td>\n",
       "      <td>0.0</td>\n",
       "      <td>0.0</td>\n",
       "      <td>0.0</td>\n",
       "      <td>0.0</td>\n",
       "      <td>0.294942</td>\n",
       "      <td>0.0</td>\n",
       "      <td>0.0</td>\n",
       "      <td>0.0</td>\n",
       "      <td>0.0</td>\n",
       "      <td>0.0</td>\n",
       "    </tr>\n",
       "  </tbody>\n",
       "</table>\n",
       "<p>5 rows × 95 columns</p>\n",
       "</div>"
      ],
      "text/plain": [
       "  document_type_code  xlsx  ведение  взнос  владелец  владение  выявлять  \\\n",
       "0              bills   0.0      0.0    0.0       0.0       0.0       0.0   \n",
       "1              bills   0.0      0.0    0.0       0.0       0.0       0.0   \n",
       "2              bills   0.0      0.0    0.0       0.0       0.0       0.0   \n",
       "3              bills   0.0      0.0    0.0       0.0       0.0       0.0   \n",
       "4              bills   0.0      0.0    0.0       0.0       0.0       0.0   \n",
       "\n",
       "   дважды  день  должный  ...  учет  учитывать  фактический  формировать  \\\n",
       "0     0.0   0.0      0.0  ...   0.0        0.0          0.0          0.0   \n",
       "1     0.0   0.0      0.0  ...   0.0        0.0          0.0          0.0   \n",
       "2     0.0   0.0      0.0  ...   0.0        0.0          0.0          0.0   \n",
       "3     0.0   0.0      0.0  ...   0.0        0.0          0.0          0.0   \n",
       "4     0.0   0.0      0.0  ...   0.0        0.0          0.0          0.0   \n",
       "\n",
       "   формироваться  хозяйственный  хотя  частично  часть  являться  \n",
       "0       0.294942            0.0   0.0       0.0    0.0       0.0  \n",
       "1       0.294942            0.0   0.0       0.0    0.0       0.0  \n",
       "2       0.294942            0.0   0.0       0.0    0.0       0.0  \n",
       "3       0.294942            0.0   0.0       0.0    0.0       0.0  \n",
       "4       0.294942            0.0   0.0       0.0    0.0       0.0  \n",
       "\n",
       "[5 rows x 95 columns]"
      ]
     },
     "execution_count": 17,
     "metadata": {},
     "output_type": "execute_result"
    }
   ],
   "source": [
    "def get_titles_data(feature_columns: list):\n",
    "    '''\n",
    "    Получение DataFrame с признаками и целевой переменной для заголовков документов\n",
    "    '''\n",
    "    words_df = get_words_tfidf()\n",
    "    if feature_columns:\n",
    "        words_df = words_df[feature_columns]\n",
    "    return df_titles.join(df_words).drop(columns=[\"document_title\"])\n",
    "\n",
    "\n",
    "df_titles_data = get_titles_data(feature_columns_names)\n",
    "df_titles_data.head()"
   ]
  },
  {
   "cell_type": "markdown",
   "id": "5c16d336-0db7-451f-909d-4c2094896c9a",
   "metadata": {},
   "source": [
    "### Обучение списка бинарных классификаторов"
   ]
  },
  {
   "cell_type": "code",
   "execution_count": 18,
   "id": "11442998-f27f-44d9-a8da-6c67dfe6e795",
   "metadata": {},
   "outputs": [
    {
     "name": "stdout",
     "output_type": "stream",
     "text": [
      "bills:\t1.0\n",
      "bills-corrections-reduction:\t1.0\n",
      "bills-corrections-old:\t0.9986225895316805\n",
      "bills-corrections-new:\t0.9986225895316805\n",
      "bills-without-title-16:\t1.0\n",
      "payments:\t1.0\n",
      "payments-additional:\t0.9931129476584022\n",
      "payments-over-accounting:\t1.0\n",
      "payments-over-incorrect:\t1.0\n",
      "payments-correct:\t1.0\n",
      "payments-over:\t1.0\n",
      "payments-over-accounting-cancellation:\t0.9931129476584022\n",
      "payments-over-accounting-cancellation-incorrec:\t1.0\n",
      "bills-corrections-reduction-due-to-non-payment:\t1.0\n",
      "payments-initial:\t1.0\n",
      "bills-initial:\t1.0\n",
      "bills-corrections-initial:\t1.0\n",
      "bills-corrections-reduction-cancellation:\t1.0\n",
      "===================================\n",
      "Average score = 0.9990817263544535\n"
     ]
    }
   ],
   "source": [
    "X = df_titles_data.drop(\"document_type_code\", axis=1)\n",
    "\n",
    "classifiers_list = []\n",
    "for dtc in document_types:\n",
    "    clf = DecisionTreeClassifier(random_state=RANDOM_STATE)\n",
    "    y = (df_titles_data.document_type_code == dtc).astype(int)\n",
    "    clf.fit(X, y)\n",
    "    clf_score = clf.score(X, y)\n",
    "    classifiers_list.append((clf, dtc, clf_score))\n",
    "\n",
    "    print(f\"{dtc}:\\t{clf_score}\")\n",
    "print(\"===================================\")\n",
    "print(f\"Average score = {sum([x[2] for x in classifiers_list]) / document_types.shape[0]}\")\n"
   ]
  },
  {
   "cell_type": "markdown",
   "id": "df49df88-b9b8-487b-9185-5f636d65881c",
   "metadata": {},
   "source": [
    "По итогам классификации видно, что не все заголовки были классифицированы однозначно. Эти случаи нужно исследовать и сообщить составителям классифицируемых документов, чтобы совместно выработать решения для однозначной классификации этих документов. Это может быть как внесение дополнительных признаков в источник данных, так и корректировка самих документов. "
   ]
  },
  {
   "cell_type": "markdown",
   "id": "fb26b284-b23c-438c-b290-77bb91650281",
   "metadata": {},
   "source": [
    "### Получение значимых признаков из обученных классификаторов"
   ]
  },
  {
   "cell_type": "code",
   "execution_count": 19,
   "id": "418b5cb5-497e-4f7c-8f55-15ef3b93d666",
   "metadata": {},
   "outputs": [
    {
     "name": "stdout",
     "output_type": "stream",
     "text": [
      "Количество значимых признаков: 47\n",
      "['дооплата', 'доплата', 'допускать', 'задолженность', 'корректность', 'который', 'кроме', 'находиться', 'начисление', 'необходимо', 'необходимость', 'неотозванный', 'непривязанный', 'объект', 'оплата', 'определять', 'организация', 'организацияя', 'осуществлять', 'отмена', 'отменять', 'ошибочно', 'переплата', 'перечень', 'период', 'плательщик', 'погашение', 'превышение', 'признание', 'принадлежать', 'производить', 'ранее', 'располагать', 'связь', 'состояние', 'специализированный', 'список', 'также', 'увеличение', 'указывать', 'уменьшение', 'учет', 'учитывать', 'формировать', 'формироваться', 'хотя', 'частично']\n"
     ]
    }
   ],
   "source": [
    "usefull_features = set()\n",
    "for clf, _, _ in classifiers_list:\n",
    "    usefull_features.update(clf.feature_names_in_[clf.feature_importances_ > 0])\n",
    "feature_columns_names = sorted(usefull_features)\n",
    "print(f\"Количество значимых признаков: {len(feature_columns_names)}\")\n",
    "print(feature_columns_names)"
   ]
  },
  {
   "cell_type": "markdown",
   "id": "af7002c9-c766-4169-8622-a6b09943f7a7",
   "metadata": {},
   "source": [
    "В итоге видно, что реально используемых моделью признаков не так много. Этот список имеет смысл зафиксировать и повторно построить модель только на этих признаках."
   ]
  },
  {
   "cell_type": "markdown",
   "id": "4dbb1750-db15-4bda-a357-a68d469c8640",
   "metadata": {},
   "source": [
    "### Обучение модели с ограниченным списком признаков"
   ]
  },
  {
   "cell_type": "code",
   "execution_count": 20,
   "id": "e01cdd6a-4d8b-4a80-83f8-491d50af8eb3",
   "metadata": {},
   "outputs": [
    {
     "name": "stdout",
     "output_type": "stream",
     "text": [
      "bills:\t1.0\n",
      "bills-corrections-reduction:\t1.0\n",
      "bills-corrections-old:\t0.9986225895316805\n",
      "bills-corrections-new:\t0.9986225895316805\n",
      "bills-without-title-16:\t1.0\n",
      "payments:\t1.0\n",
      "payments-additional:\t0.9931129476584022\n",
      "payments-over-accounting:\t1.0\n",
      "payments-over-incorrect:\t1.0\n",
      "payments-correct:\t1.0\n",
      "payments-over:\t1.0\n",
      "payments-over-accounting-cancellation:\t0.9931129476584022\n",
      "payments-over-accounting-cancellation-incorrec:\t1.0\n",
      "bills-corrections-reduction-due-to-non-payment:\t1.0\n",
      "payments-initial:\t1.0\n",
      "bills-initial:\t1.0\n",
      "bills-corrections-initial:\t1.0\n",
      "bills-corrections-reduction-cancellation:\t1.0\n",
      "===================================\n",
      "Average score = 0.9990817263544535\n"
     ]
    }
   ],
   "source": [
    "df_titles.document_title = df_titles_raw.document_title.apply(title_preprocessing)\n",
    "\n",
    "df_titles_data = get_titles_data(feature_columns_names)\n",
    "\n",
    "X = df_titles_data.drop(\"document_type_code\", axis=1)\n",
    "\n",
    "classifiers_list = []\n",
    "for dtc in document_types:\n",
    "    clf = DecisionTreeClassifier(random_state=RANDOM_STATE)\n",
    "    y = (df_titles_data.document_type_code == dtc).astype(int)\n",
    "    clf.fit(X, y)\n",
    "    clf_score = clf.score(X, y)\n",
    "    classifiers_list.append((clf, dtc, clf_score))\n",
    "\n",
    "    print(f\"{dtc}:\\t{clf_score}\")\n",
    "print(\"===================================\")\n",
    "print(f\"Average score = {sum([x[2] for x in classifiers_list]) / document_types.shape[0]}\")"
   ]
  },
  {
   "cell_type": "markdown",
   "id": "d29e1939-9de6-4f6d-8857-275695f228a1",
   "metadata": {},
   "source": [
    "## Итоги исследования и дальнейшие шаги"
   ]
  },
  {
   "cell_type": "markdown",
   "id": "5c94c337-eeff-4cb5-b278-da9dd3b6ea95",
   "metadata": {},
   "source": [
    "По итогам исследования имеющихся данных была выработана структура модели машинного обучения, отвечающая требованиям поставленной задачи. Теперь требуется реализовать эту модель в виде отдельного класса с возможностью:\n",
    "- обучения модели,\n",
    "- сохранения модели в файл,\n",
    "- загрузки модели из файла,\n",
    "- получения результата классификации новых заголовков документов.\n",
    "\n",
    "Кроме того, нужно будет проверить качество полученной модели на неизвестных ей данных."
   ]
  },
  {
   "cell_type": "code",
   "execution_count": null,
   "id": "a015a399-4bb1-4af0-ae43-fa050b13e756",
   "metadata": {},
   "outputs": [],
   "source": []
  }
 ],
 "metadata": {
  "kernelspec": {
   "display_name": "Python 3 (ipykernel)",
   "language": "python",
   "name": "python3"
  },
  "language_info": {
   "codemirror_mode": {
    "name": "ipython",
    "version": 3
   },
   "file_extension": ".py",
   "mimetype": "text/x-python",
   "name": "python",
   "nbconvert_exporter": "python",
   "pygments_lexer": "ipython3",
   "version": "3.10.12"
  }
 },
 "nbformat": 4,
 "nbformat_minor": 5
}
